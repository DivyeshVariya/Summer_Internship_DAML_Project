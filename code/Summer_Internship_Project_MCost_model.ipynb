{
  "nbformat": 4,
  "nbformat_minor": 0,
  "metadata": {
    "colab": {
      "name": "Summer_Internship_Project_MCost_model.ipynb",
      "provenance": [],
      "collapsed_sections": []
    },
    "kernelspec": {
      "name": "python3",
      "display_name": "Python 3"
    },
    "language_info": {
      "name": "python"
    }
  },
  "cells": [
    {
      "cell_type": "markdown",
      "source": [
        "# Model Building for Medical Cost Prediction\n",
        "\n",
        "### Here , We use various Regression Model of Supervised Machine Learning. In these project , we predicting medical cost that is continuous value and it's depends on person's BMI Index( Body Mass Index ) , Age and Smoker type. So , here , We use follwing Regression Models for predicting medical cost that is continuous value in which to find best fitting model for our project :\n",
        "\n",
        "## 1. Linear Regression Model\n",
        "## 2. Polynomial Linear Regression Model\n",
        "## 3. Decision Tree Regression Model\n",
        "## 4. Random Forests Regression Model\n"
      ],
      "metadata": {
        "id": "zJVKM54c30_2"
      }
    },
    {
      "cell_type": "code",
      "execution_count": 7,
      "metadata": {
        "id": "NuCJO9sz3zxl"
      },
      "outputs": [],
      "source": [
        "import pandas as pd\n",
        "import numpy as np\n",
        "import matplotlib\n",
        "import matplotlib.pyplot as plt"
      ]
    },
    {
      "cell_type": "code",
      "source": [
        "# Taking dataset Which dataset that we already pre=processed in EDA\n",
        "\n",
        "medical_data=pd.read_csv('medical_cost.csv')\n",
        "print(medical_data)"
      ],
      "metadata": {
        "colab": {
          "base_uri": "https://localhost:8080/"
        },
        "id": "Jb9MTDLn7EUl",
        "outputId": "d4315432-6bd8-455b-c9f7-794fed2b076a"
      },
      "execution_count": 8,
      "outputs": [
        {
          "output_type": "stream",
          "name": "stdout",
          "text": [
            "      Unnamed: 0  age     sex     bmi  children smoker     region      charges\n",
            "0              0   19  female  27.900         0    yes  southwest  16884.92400\n",
            "1              1   18    male  33.770         1     no  southeast   1725.55230\n",
            "2              2   28    male  33.000         3     no  southeast   4449.46200\n",
            "3              3   33    male  22.705         0     no  northwest  21984.47061\n",
            "4              4   32    male  28.880         0     no  northwest   3866.85520\n",
            "...          ...  ...     ...     ...       ...    ...        ...          ...\n",
            "1333        1333   50    male  30.970         3     no  northwest  10600.54830\n",
            "1334        1334   18  female  31.920         0     no  northeast   2205.98080\n",
            "1335        1335   18  female  36.850         0     no  southeast   1629.83350\n",
            "1336        1336   21  female  25.800         0     no  southwest   2007.94500\n",
            "1337        1337   61  female  29.070         0    yes  northwest  29141.36030\n",
            "\n",
            "[1338 rows x 8 columns]\n"
          ]
        }
      ]
    },
    {
      "cell_type": "code",
      "source": [
        "# Linear Regression Model\n",
        "# here, we predicting medical charges base on BMI Index and Smoker type\n",
        "\n",
        "from sklearn.model_selection import train_test_split\n",
        "from sklearn.linear_model import LinearRegression\n",
        "from sklearn.metrics import r2_score"
      ],
      "metadata": {
        "id": "o3Uj6-eD8K2L"
      },
      "execution_count": 9,
      "outputs": []
    },
    {
      "cell_type": "code",
      "source": [
        "x=pd.DataFrame(medical_data[['bmi','age','smoker']])\n",
        "x['smoker']=x['smoker'].replace({'yes':1,'no':0})\n",
        "print(x.head())\n",
        "y=pd.DataFrame(medical_data[['charges']])"
      ],
      "metadata": {
        "colab": {
          "base_uri": "https://localhost:8080/"
        },
        "id": "HZnMl4pW977D",
        "outputId": "4b3edbee-11eb-4b11-fe24-3479316f3d2d"
      },
      "execution_count": 10,
      "outputs": [
        {
          "output_type": "stream",
          "name": "stdout",
          "text": [
            "      bmi  age  smoker\n",
            "0  27.900   19       1\n",
            "1  33.770   18       0\n",
            "2  33.000   28       0\n",
            "3  22.705   33       0\n",
            "4  28.880   32       0\n"
          ]
        }
      ]
    },
    {
      "cell_type": "code",
      "source": [
        "x_train, x_test, y_train, y_test = train_test_split(x,y, test_size=0.2, random_state=2)\n",
        "print(len(x_train))\n",
        "print(len(x_test))"
      ],
      "metadata": {
        "colab": {
          "base_uri": "https://localhost:8080/"
        },
        "id": "bXL-kF2f-ecS",
        "outputId": "f9e75904-62b9-4e13-9868-bea723adb673"
      },
      "execution_count": 11,
      "outputs": [
        {
          "output_type": "stream",
          "name": "stdout",
          "text": [
            "1070\n",
            "268\n"
          ]
        }
      ]
    },
    {
      "cell_type": "code",
      "source": [
        "lr =LinearRegression()\n",
        "lr.fit(x_train, y_train)"
      ],
      "metadata": {
        "colab": {
          "base_uri": "https://localhost:8080/"
        },
        "id": "SmQyFMwv-jk_",
        "outputId": "cf1a78c8-ac81-4a10-e014-c024291b1ff1"
      },
      "execution_count": 12,
      "outputs": [
        {
          "output_type": "execute_result",
          "data": {
            "text/plain": [
              "LinearRegression()"
            ]
          },
          "metadata": {},
          "execution_count": 12
        }
      ]
    },
    {
      "cell_type": "code",
      "source": [
        "y_predict=lr.predict(x_test)\n",
        "print('Predicted values : '+str(y_predict[:5]))\n",
        "print('Tested values'+str(y_test.head()))"
      ],
      "metadata": {
        "colab": {
          "base_uri": "https://localhost:8080/"
        },
        "id": "Z2Ndh0sDKtMS",
        "outputId": "082e611a-dddd-4d8b-f65d-5910418df909"
      },
      "execution_count": 13,
      "outputs": [
        {
          "output_type": "stream",
          "name": "stdout",
          "text": [
            "Predicted values : [[ 2114.96540752]\n",
            " [12128.48900504]\n",
            " [10103.64805352]\n",
            " [ 2615.25978845]\n",
            " [ 6793.23791918]]\n",
            "Tested values          charges\n",
            "17     2395.17155\n",
            "1091  11286.53870\n",
            "273    9617.66245\n",
            "270    1719.43630\n",
            "874    8891.13950\n"
          ]
        }
      ]
    },
    {
      "cell_type": "code",
      "source": [
        "# Linear Regression Model Accuracy\n",
        "\n",
        "lr_acur=lr.score(x_test,y_test)\n",
        "print('Linear Regression model accuracy : {}%'.format(lr_acur*100))"
      ],
      "metadata": {
        "colab": {
          "base_uri": "https://localhost:8080/"
        },
        "id": "itcYzFoqK6Mh",
        "outputId": "1ef71deb-3bfe-494d-b4c6-d50b4461de2a"
      },
      "execution_count": 14,
      "outputs": [
        {
          "output_type": "stream",
          "name": "stdout",
          "text": [
            "Linear Regression model accuracy : 74.58235577888375%\n"
          ]
        }
      ]
    },
    {
      "cell_type": "code",
      "source": [
        "# Polynomial Linear Regression Model\n",
        "\n",
        "import matplotlib.pyplot as plt\n",
        "from sklearn.model_selection import train_test_split\n",
        "from sklearn.linear_model import LinearRegression\n",
        "from sklearn.metrics import r2_score\n",
        "from sklearn.preprocessing import PolynomialFeatures\n"
      ],
      "metadata": {
        "id": "wdIpJmhDK-Ov"
      },
      "execution_count": 15,
      "outputs": []
    },
    {
      "cell_type": "code",
      "source": [
        "x_poly=pd.DataFrame(medical_data[['bmi','age','smoker']])\n",
        "x_poly['smoker']=x_poly['smoker'].replace({'yes':1,'no':0})\n",
        "print(x_poly.head())\n",
        "y_poly=pd.DataFrame(medical_data[['charges']])"
      ],
      "metadata": {
        "colab": {
          "base_uri": "https://localhost:8080/"
        },
        "id": "JwxIEqrHLB3z",
        "outputId": "b851a531-3fa2-43bc-c8c1-68fc08552cfc"
      },
      "execution_count": 16,
      "outputs": [
        {
          "output_type": "stream",
          "name": "stdout",
          "text": [
            "      bmi  age  smoker\n",
            "0  27.900   19       1\n",
            "1  33.770   18       0\n",
            "2  33.000   28       0\n",
            "3  22.705   33       0\n",
            "4  28.880   32       0\n"
          ]
        }
      ]
    },
    {
      "cell_type": "code",
      "source": [
        "x_train_poly, x_test_poly, y_train_poly, y_test_poly = train_test_split(x_poly,y_poly, test_size=0.2, random_state=2)\n",
        "print(len(x_train_poly))\n",
        "print(len(x_test_poly))"
      ],
      "metadata": {
        "colab": {
          "base_uri": "https://localhost:8080/"
        },
        "id": "mmNCMR4ELEdR",
        "outputId": "6d4a9e0b-706c-48d4-b249-2a0546bfd691"
      },
      "execution_count": 17,
      "outputs": [
        {
          "output_type": "stream",
          "name": "stdout",
          "text": [
            "1070\n",
            "268\n"
          ]
        }
      ]
    },
    {
      "cell_type": "code",
      "source": [
        "poly=PolynomialFeatures(degree=4)\n",
        "x_train_poly_trans, x_test_poly_trans=poly.fit_transform(x_train_poly) , poly.fit_transform(x_test_poly)\n",
        "print(x_train_poly_trans[:5])\n",
        "print(x_train_poly.head())"
      ],
      "metadata": {
        "colab": {
          "base_uri": "https://localhost:8080/"
        },
        "id": "FS_VhNpTLIhe",
        "outputId": "40bcf52d-3a3d-4242-f0b6-0b63dfb44e09"
      },
      "execution_count": 18,
      "outputs": [
        {
          "output_type": "stream",
          "name": "stdout",
          "text": [
            "[[1.00000000e+00 2.21350000e+01 2.10000000e+01 0.00000000e+00\n",
            "  4.89958225e+02 4.64835000e+02 0.00000000e+00 4.41000000e+02\n",
            "  0.00000000e+00 0.00000000e+00 1.08452253e+04 1.02891227e+04\n",
            "  0.00000000e+00 9.76153500e+03 0.00000000e+00 0.00000000e+00\n",
            "  9.26100000e+03 0.00000000e+00 0.00000000e+00 0.00000000e+00\n",
            "  2.40059062e+05 2.27749732e+05 0.00000000e+00 2.16071577e+05\n",
            "  0.00000000e+00 0.00000000e+00 2.04992235e+05 0.00000000e+00\n",
            "  0.00000000e+00 0.00000000e+00 1.94481000e+05 0.00000000e+00\n",
            "  0.00000000e+00 0.00000000e+00 0.00000000e+00]\n",
            " [1.00000000e+00 3.08750000e+01 3.70000000e+01 0.00000000e+00\n",
            "  9.53265625e+02 1.14237500e+03 0.00000000e+00 1.36900000e+03\n",
            "  0.00000000e+00 0.00000000e+00 2.94320762e+04 3.52708281e+04\n",
            "  0.00000000e+00 4.22678750e+04 0.00000000e+00 0.00000000e+00\n",
            "  5.06530000e+04 0.00000000e+00 0.00000000e+00 0.00000000e+00\n",
            "  9.08715352e+05 1.08898682e+06 0.00000000e+00 1.30502064e+06\n",
            "  0.00000000e+00 0.00000000e+00 1.56391138e+06 0.00000000e+00\n",
            "  0.00000000e+00 0.00000000e+00 1.87416100e+06 0.00000000e+00\n",
            "  0.00000000e+00 0.00000000e+00 0.00000000e+00]\n",
            " [1.00000000e+00 3.31000000e+01 5.80000000e+01 0.00000000e+00\n",
            "  1.09561000e+03 1.91980000e+03 0.00000000e+00 3.36400000e+03\n",
            "  0.00000000e+00 0.00000000e+00 3.62646910e+04 6.35453800e+04\n",
            "  0.00000000e+00 1.11348400e+05 0.00000000e+00 0.00000000e+00\n",
            "  1.95112000e+05 0.00000000e+00 0.00000000e+00 0.00000000e+00\n",
            "  1.20036127e+06 2.10335208e+06 0.00000000e+00 3.68563204e+06\n",
            "  0.00000000e+00 0.00000000e+00 6.45820720e+06 0.00000000e+00\n",
            "  0.00000000e+00 0.00000000e+00 1.13164960e+07 0.00000000e+00\n",
            "  0.00000000e+00 0.00000000e+00 0.00000000e+00]\n",
            " [1.00000000e+00 2.31800000e+01 2.20000000e+01 0.00000000e+00\n",
            "  5.37312400e+02 5.09960000e+02 0.00000000e+00 4.84000000e+02\n",
            "  0.00000000e+00 0.00000000e+00 1.24549014e+04 1.18208728e+04\n",
            "  0.00000000e+00 1.12191200e+04 0.00000000e+00 0.00000000e+00\n",
            "  1.06480000e+04 0.00000000e+00 0.00000000e+00 0.00000000e+00\n",
            "  2.88704615e+05 2.74007832e+05 0.00000000e+00 2.60059202e+05\n",
            "  0.00000000e+00 0.00000000e+00 2.46820640e+05 0.00000000e+00\n",
            "  0.00000000e+00 0.00000000e+00 2.34256000e+05 0.00000000e+00\n",
            "  0.00000000e+00 0.00000000e+00 0.00000000e+00]\n",
            " [1.00000000e+00 3.22300000e+01 4.80000000e+01 0.00000000e+00\n",
            "  1.03877290e+03 1.54704000e+03 0.00000000e+00 2.30400000e+03\n",
            "  0.00000000e+00 0.00000000e+00 3.34796506e+04 4.98610992e+04\n",
            "  0.00000000e+00 7.42579200e+04 0.00000000e+00 0.00000000e+00\n",
            "  1.10592000e+05 0.00000000e+00 0.00000000e+00 0.00000000e+00\n",
            "  1.07904914e+06 1.60702323e+06 0.00000000e+00 2.39333276e+06\n",
            "  0.00000000e+00 0.00000000e+00 3.56438016e+06 0.00000000e+00\n",
            "  0.00000000e+00 0.00000000e+00 5.30841600e+06 0.00000000e+00\n",
            "  0.00000000e+00 0.00000000e+00 0.00000000e+00]]\n",
            "        bmi  age  smoker\n",
            "882  22.135   21       0\n",
            "505  30.875   37       0\n",
            "798  33.100   58       0\n",
            "792  23.180   22       0\n",
            "201  32.230   48       0\n"
          ]
        }
      ]
    },
    {
      "cell_type": "code",
      "source": [
        "poly_model=LinearRegression()\n",
        "poly_model.fit(x_train_poly_trans,y_train_poly)"
      ],
      "metadata": {
        "colab": {
          "base_uri": "https://localhost:8080/"
        },
        "id": "5Qmr6XepLLVZ",
        "outputId": "c00a27ac-a449-4dff-ebc6-65a306d8a32d"
      },
      "execution_count": 19,
      "outputs": [
        {
          "output_type": "execute_result",
          "data": {
            "text/plain": [
              "LinearRegression()"
            ]
          },
          "metadata": {},
          "execution_count": 19
        }
      ]
    },
    {
      "cell_type": "code",
      "source": [
        "y_predict_poly=poly_model.predict(x_test_poly_trans)\n",
        "print(' Preducted values : '+str(y_predict_poly[:5]))\n",
        "print('Test values :'+str(y_test_poly.head()))"
      ],
      "metadata": {
        "colab": {
          "base_uri": "https://localhost:8080/"
        },
        "id": "pHU0PM_MLPQI",
        "outputId": "fea61400-a4ab-41ab-bc6e-0ea85f0ce3b1"
      },
      "execution_count": 20,
      "outputs": [
        {
          "output_type": "stream",
          "name": "stdout",
          "text": [
            " Preducted values : [[ 4416.9200134 ]\n",
            " [13146.21119964]\n",
            " [10865.8048287 ]\n",
            " [ 3569.29665995]\n",
            " [ 8312.98243557]]\n",
            "Test values :          charges\n",
            "17     2395.17155\n",
            "1091  11286.53870\n",
            "273    9617.66245\n",
            "270    1719.43630\n",
            "874    8891.13950\n"
          ]
        }
      ]
    },
    {
      "cell_type": "code",
      "source": [
        "# Poly Linear Regression Model Accuracy\n",
        "\n",
        "poly_acur=poly_model.score(x_test_poly_trans,y_test_poly)\n",
        "print('Polynomial Linear Regression model accuracy : {}%'.format(poly_acur*100))"
      ],
      "metadata": {
        "colab": {
          "base_uri": "https://localhost:8080/"
        },
        "id": "H7pq4rzSLSTG",
        "outputId": "3fc42f7a-1bcf-4594-9dfe-a99740d95ff8"
      },
      "execution_count": 21,
      "outputs": [
        {
          "output_type": "stream",
          "name": "stdout",
          "text": [
            "Polynomial Linear Regression model accuracy : 85.77605797274647%\n"
          ]
        }
      ]
    },
    {
      "cell_type": "code",
      "source": [
        "# Decision Tree Regression Model\n",
        "\n",
        "import matplotlib.pyplot as plt\n",
        "from sklearn.model_selection import train_test_split\n",
        "from sklearn.tree import DecisionTreeRegressor"
      ],
      "metadata": {
        "id": "Rz6gWe7ILVGu"
      },
      "execution_count": 22,
      "outputs": []
    },
    {
      "cell_type": "code",
      "source": [
        "x_dt=pd.DataFrame(medical_data[['bmi','age','smoker']])\n",
        "x_dt['smoker']=x_dt['smoker'].replace({'yes':1,'no':0})\n",
        "print(x_dt.head())\n",
        "y_dt=pd.DataFrame(medical_data[['charges']])"
      ],
      "metadata": {
        "colab": {
          "base_uri": "https://localhost:8080/"
        },
        "id": "SG_yLUdyLYwz",
        "outputId": "142e8c77-4f2e-4b46-dcf8-dc830ce2c143"
      },
      "execution_count": 23,
      "outputs": [
        {
          "output_type": "stream",
          "name": "stdout",
          "text": [
            "      bmi  age  smoker\n",
            "0  27.900   19       1\n",
            "1  33.770   18       0\n",
            "2  33.000   28       0\n",
            "3  22.705   33       0\n",
            "4  28.880   32       0\n"
          ]
        }
      ]
    },
    {
      "cell_type": "code",
      "source": [
        "x_train_dt, x_test_dt, y_train_dt, y_test_dt = train_test_split(x_dt,y_dt, test_size=0.2, random_state=0)\n",
        "print(len(x_train_dt))\n",
        "print(len(x_test_dt))"
      ],
      "metadata": {
        "colab": {
          "base_uri": "https://localhost:8080/"
        },
        "id": "ZNLQod_GLbjs",
        "outputId": "c0bf25c6-f5f6-4e91-de8a-e57880c08ef6"
      },
      "execution_count": 24,
      "outputs": [
        {
          "output_type": "stream",
          "name": "stdout",
          "text": [
            "1070\n",
            "268\n"
          ]
        }
      ]
    },
    {
      "cell_type": "code",
      "source": [
        "dt_model =DecisionTreeRegressor(random_state=50)\n",
        "dt_model.fit(x_train_dt, y_train_dt)"
      ],
      "metadata": {
        "colab": {
          "base_uri": "https://localhost:8080/"
        },
        "id": "GRZZBExALfTs",
        "outputId": "501143ce-604e-4d25-fdd0-5ee9b007023c"
      },
      "execution_count": 25,
      "outputs": [
        {
          "output_type": "execute_result",
          "data": {
            "text/plain": [
              "DecisionTreeRegressor(random_state=50)"
            ]
          },
          "metadata": {},
          "execution_count": 25
        }
      ]
    },
    {
      "cell_type": "code",
      "source": [
        "y_predict_dt=dt_model.predict(x_test_dt)\n",
        "print('Predicted values : '+str(y_predict_dt[:5]))\n",
        "print('Tested values'+str(y_test_dt.head()))"
      ],
      "metadata": {
        "colab": {
          "base_uri": "https://localhost:8080/"
        },
        "id": "R2Wv82JiLjT2",
        "outputId": "6c7e2195-5cc0-4432-8d15-985e20b5e4a3"
      },
      "execution_count": 26,
      "outputs": [
        {
          "output_type": "stream",
          "name": "stdout",
          "text": [
            "Predicted values : [10797.3362   8930.93455 44202.6536  15230.32405  9264.797  ]\n",
            "Tested values          charges\n",
            "578    9724.53000\n",
            "610    8547.69130\n",
            "569   45702.02235\n",
            "1034  12950.07120\n",
            "198    9644.25250\n"
          ]
        }
      ]
    },
    {
      "cell_type": "code",
      "source": [
        "# Decision Tree Regression Model Accuracy\n",
        "\n",
        "dt_acur=dt_model.score(x_test_dt,y_test_dt)\n",
        "print('Decision Tree Regression model accuracy : {}%'.format(dt_acur*100))"
      ],
      "metadata": {
        "colab": {
          "base_uri": "https://localhost:8080/"
        },
        "id": "ygvOCNl9Llq6",
        "outputId": "777528e8-c416-4617-ef90-79a9f441a630"
      },
      "execution_count": 27,
      "outputs": [
        {
          "output_type": "stream",
          "name": "stdout",
          "text": [
            "Decision Tree Regression model accuracy : 73.33716572533129%\n"
          ]
        }
      ]
    },
    {
      "cell_type": "code",
      "source": [
        "# Random Forest Regression Model\n",
        "\n",
        "import matplotlib.pyplot as plt\n",
        "from sklearn.model_selection import train_test_split\n",
        "from sklearn.ensemble import RandomForestRegressor"
      ],
      "metadata": {
        "id": "6Q86w72OLt_I"
      },
      "execution_count": 28,
      "outputs": []
    },
    {
      "cell_type": "code",
      "source": [
        "x_rf=pd.DataFrame(medical_data[['bmi','age','smoker']])\n",
        "x_rf['smoker']=x_rf['smoker'].replace({'yes':1,'no':0})\n",
        "print(x_rf.head())\n",
        "y_rf=pd.DataFrame(medical_data[['charges']])"
      ],
      "metadata": {
        "colab": {
          "base_uri": "https://localhost:8080/"
        },
        "id": "P2lFqFY5L0dR",
        "outputId": "586321c3-3470-47fc-905e-705ac401b109"
      },
      "execution_count": 29,
      "outputs": [
        {
          "output_type": "stream",
          "name": "stdout",
          "text": [
            "      bmi  age  smoker\n",
            "0  27.900   19       1\n",
            "1  33.770   18       0\n",
            "2  33.000   28       0\n",
            "3  22.705   33       0\n",
            "4  28.880   32       0\n"
          ]
        }
      ]
    },
    {
      "cell_type": "code",
      "source": [
        "x_train_rf, x_test_rf, y_train_rf, y_test_rf = train_test_split(x_rf,y_rf, test_size=0.2, random_state=0)\n",
        "print(len(x_train_rf))\n",
        "print(len(x_test_rf))"
      ],
      "metadata": {
        "colab": {
          "base_uri": "https://localhost:8080/"
        },
        "id": "dnKqikULL3r9",
        "outputId": "7c0c6486-1dea-4798-9a9c-a682bfb1cd10"
      },
      "execution_count": 30,
      "outputs": [
        {
          "output_type": "stream",
          "name": "stdout",
          "text": [
            "1070\n",
            "268\n"
          ]
        }
      ]
    },
    {
      "cell_type": "code",
      "source": [
        "rf_model =RandomForestRegressor(random_state=2)\n",
        "rf_model.fit(x_train_rf, y_train_rf)"
      ],
      "metadata": {
        "colab": {
          "base_uri": "https://localhost:8080/"
        },
        "id": "ndhXufF6L6XM",
        "outputId": "48e3f393-62dd-4871-ad7d-c21adc9dc768"
      },
      "execution_count": 31,
      "outputs": [
        {
          "output_type": "stream",
          "name": "stderr",
          "text": [
            "/usr/local/lib/python3.7/dist-packages/ipykernel_launcher.py:2: DataConversionWarning: A column-vector y was passed when a 1d array was expected. Please change the shape of y to (n_samples,), for example using ravel().\n",
            "  \n"
          ]
        },
        {
          "output_type": "execute_result",
          "data": {
            "text/plain": [
              "RandomForestRegressor(random_state=2)"
            ]
          },
          "metadata": {},
          "execution_count": 31
        }
      ]
    },
    {
      "cell_type": "code",
      "source": [
        "y_predict_rf=rf_model.predict(x_test_rf)\n",
        "print('Predicted values : '+str(y_predict_rf[:5]))\n",
        "print('Tested values'+str(y_test_rf.head()))"
      ],
      "metadata": {
        "colab": {
          "base_uri": "https://localhost:8080/"
        },
        "id": "mPedEyPOL9aq",
        "outputId": "18dd995b-b569-4a63-838f-9c0810e3726e"
      },
      "execution_count": 32,
      "outputs": [
        {
          "output_type": "stream",
          "name": "stdout",
          "text": [
            "Predicted values : [11030.5017627 10777.1353025 44514.4013602 14460.3726277  9378.7427945]\n",
            "Tested values          charges\n",
            "578    9724.53000\n",
            "610    8547.69130\n",
            "569   45702.02235\n",
            "1034  12950.07120\n",
            "198    9644.25250\n"
          ]
        }
      ]
    },
    {
      "cell_type": "code",
      "source": [
        "# Random Forest Regression Model Accuracy\n",
        "\n",
        "rf_acur=rf_model.score(x_test_rf,y_test_rf)\n",
        "print('Random Forest Regression model accuracy : {}%'.format(rf_acur*100))"
      ],
      "metadata": {
        "colab": {
          "base_uri": "https://localhost:8080/"
        },
        "id": "t1mr72XvMA-N",
        "outputId": "992b2a12-8d3c-44de-de94-5424caaccc81"
      },
      "execution_count": 33,
      "outputs": [
        {
          "output_type": "stream",
          "name": "stdout",
          "text": [
            "Random Forest Regression model accuracy : 86.0820176679652%\n"
          ]
        }
      ]
    },
    {
      "cell_type": "markdown",
      "source": [
        "* After , Building various Machine Learning Models are Linear Regression , Polynomial Linear Regression , Decision Tree and Random Forest . We find accuracy of each model , in which we can see that Random Forest Regression Model has higher accuracy compare to other models. So we can say that Random Forest Machine Learning Model is best fit for our data predictions. "
      ],
      "metadata": {
        "id": "yISKIdS6MNcH"
      }
    },
    {
      "cell_type": "code",
      "source": [
        "# Thank you for viewing..."
      ],
      "metadata": {
        "id": "4U3UZ6IFMEXS"
      },
      "execution_count": null,
      "outputs": []
    }
  ]
}